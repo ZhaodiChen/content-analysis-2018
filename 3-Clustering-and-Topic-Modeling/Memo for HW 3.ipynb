{
 "cells": [
  {
   "cell_type": "markdown",
   "metadata": {},
   "source": [
    "## Data"
   ]
  },
  {
   "cell_type": "markdown",
   "metadata": {},
   "source": [
    "The data I used for this homework is the White House Senator Press from Justin Grimmer's press releases corpus. This dataset contains several seperate documents of senator press texts."
   ]
  },
  {
   "cell_type": "markdown",
   "metadata": {},
   "source": [
    "## Results and Main Findings"
   ]
  },
  {
   "cell_type": "markdown",
   "metadata": {},
   "source": [
    "In order to explore the organization of the data as well as the distribution of contents across documents, my work contains three parts: a) flat clustering, b) hierarchy clustering ,and c) topic modeling. The main results and interpretations about the results are as follow:\n",
    "\n",
    "#### Flat clustering\n",
    "According to the results of flat clustering, plots, and the identification of the \"optimal\" cluster number, we can get a basic understanding about the organization of the White House Senator Press Releasing Data.\n",
    "\n",
    "1) The plots of flat clustering show that the distribution of words from documents is very sparse.\n",
    "\n",
    "2) According to our interrogation of clusters in terms of documents, the clustering in documents is dispersive (neighbor documents belong to different clusters), which means that the content of White House senator press is not necessarily similar based on the release time.\n",
    "\n",
    "3) According to our interrogation of clusters in terms of features, clusters of this data includes topics about employment, environment, solving problems, etc.\n",
    "\n",
    "4) The silhouette analysis suggests that the most possible optimal cluster number of this data is 8. And according to the silhouette coefficient value, most of the clusters are not very far away from their neighbor clusters. Distances among clusters are pretty close.\n",
    "\n",
    "#### Hierarchy clustering\n",
    "The hierarchical clustering reveals the nested cluster structure of the White House Senator Releases Data.\n",
    "\n",
    "As I set the level parameter as 5, the nested plots show us 5 level of hierarchies in the clusters. When I use first 100 texts of each classes to draw the plot, there appears to be 2 main clusters (red and green). And when using the full text, the number of clusters changed into 3 (red, green and blue). Even I changed the level parameter into 7, the clustering results remains to be 3 clusters. \n",
    "\n",
    "#### Topic modeling\n",
    "In this part, the results of topic modeling and plots help us looking into the basic topic structure of this data, which reveals the distribution of contents across of the White House senator press.\n",
    "\n",
    "1) According to the plots of document-topic loadings, degrees of different topics located in distinct texts vary. Take 10 documents for example, 'whitehouse 8' is all about topic #0 while 'whitehouse123' and 'whitehouse 3' are all about topic #6. Other documents are load on various topics, such as 'whitehouse 35' and 'whitehouse 122' are load on topic #5 and topic #1, which means they contain similar contents.\n",
    "\n",
    "2) According to the top words of each topic and the plot which shows the probability distribution of certain topics, we can get a sense of the semantic domain those word represent. Among the 10 topics when got from topic modeling, 6 of them contains 'Iraq' as the one of the top words, which reveals that Iraq issue turns out to be a prominent issue in White House senator releases. However, the substantive content related to the Irap issue in different topic varies, which range from health care, war, financial budget to voting. This finding reveals that Iraq issue is largely related to lots of aspects in White house governmening as well as the American society.\n"
   ]
  },
  {
   "cell_type": "markdown",
   "metadata": {},
   "source": [
    "## Personal Evaluation of the Methods and Technical Problems\n",
    "\n",
    "As unsupervised methods in machine learing, clustering and topic modeling makes it possible to find categories among dispersed, large-scale data. However, it still requires our knowledge to make sense of those cluters. In my case, given that the senator releases data dosen't have initial categories as the newsgroup data does, the most difficult part for me is to appropriately interpret the results of clusters and find insightful findings.\n",
    "\n",
    "One technical problem I met is in the third part of the homework.\n",
    "\n",
    "I don't know how to vary the value of  αα . When I trying to the set the value of it as I did to the  ηη , I just simply changed the transparency of the plots. I think that's because alpha also represent transparency of lines, dots, bars, etc, in python language."
   ]
  },
  {
   "cell_type": "code",
   "execution_count": null,
   "metadata": {
    "collapsed": true
   },
   "outputs": [],
   "source": []
  }
 ],
 "metadata": {
  "kernelspec": {
   "display_name": "Python 3",
   "language": "python",
   "name": "python3"
  },
  "language_info": {
   "codemirror_mode": {
    "name": "ipython",
    "version": 3
   },
   "file_extension": ".py",
   "mimetype": "text/x-python",
   "name": "python",
   "nbconvert_exporter": "python",
   "pygments_lexer": "ipython3",
   "version": "3.6.3"
  }
 },
 "nbformat": 4,
 "nbformat_minor": 2
}
