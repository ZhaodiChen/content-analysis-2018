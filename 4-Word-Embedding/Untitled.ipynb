{
 "cells": [
  {
   "cell_type": "code",
   "execution_count": 1,
   "metadata": {
    "collapsed": true
   },
   "outputs": [],
   "source": [
    "#Special module written for this class\n",
    "#This provides access to data and to helper functions from previous weeks\n",
    "\n",
    "import lucem_illud #pip install git+git://github.com/Computational-Content-Analysis-2018/lucem_illud.git\n",
    "\n",
    "#All these packages need to be installed from pip\n",
    "import requests #for http requests\n",
    "import bs4 #called `beautifulsoup4`, an html parser\n",
    "import pandas #gives us DataFrames\n",
    "import docx #reading MS doc files, install as `python-docx`\n",
    "\n",
    "#These come with Python\n",
    "import re #for regexs\n",
    "import urllib.parse #For joining urls\n",
    "import io #for making http requests look like files\n",
    "import json #For Tumblr API responses\n",
    "import os.path #For checking if files exist\n",
    "import os #For making directories"
   ]
  },
  {
   "cell_type": "code",
   "execution_count": 10,
   "metadata": {},
   "outputs": [
    {
     "data": {
      "text/plain": [
       "<module 'sys' (built-in)>"
      ]
     },
     "execution_count": 10,
     "metadata": {},
     "output_type": "execute_result"
    }
   ],
   "source": [
    "import importlib\n",
    "importlib.reload(sys)\n"
   ]
  },
  {
   "cell_type": "code",
   "execution_count": 2,
   "metadata": {},
   "outputs": [
    {
     "data": {
      "text/plain": [
       "<Response [200]>"
      ]
     },
     "execution_count": 2,
     "metadata": {},
     "output_type": "execute_result"
    }
   ],
   "source": [
    "\n",
    "china_poetry = 'http://www.shigeku.org/shiku/xs/#shiren'\n",
    "requests.get(china_poetry)"
   ]
  },
  {
   "cell_type": "code",
   "execution_count": 4,
   "metadata": {},
   "outputs": [
    {
     "name": "stdout",
     "output_type": "stream",
     "text": [
      "<head>\n",
      "    <meta http-equiv=Content-Type content=\"text/html; charset=gb2312\">\n",
      "    <meta name=GENERATOR content=\"Microsoft FrontPage 4.0\"><meta name=ProgId content=FrontPage.Editor.Document>\n",
      "    <title>ÖÐ»ªÊ«¿â::ÏÖ´úÊ«¿â</title>\n",
      "  <link rel=\"stylesheet\" href=\"style.css\">\n",
      "</head>\n",
      "<body>\n",
      "\n",
      "<p align=\"center\"><h1>ÖÐ»ªÊ«¿â::ÏÖ´úÊ«¿â</h1></p>\n",
      "<p align=\"center\">¹²ÓÐ613Î»Ê«ÈË£¬8744Ê×Ê«¸è£¬1582¸öÎÄµµ</p>\n",
      "\n",
      "<table align=\"center\" cellpadding=\"10\" border=\"0\" width=\"90%\"><tr><td>\n",
      "\n",
      "<br><h2><a href=\"#collection\">×÷Æ·»ã±à</a></h2><br>\n",
      "\n",
      "<div id=\"navcontainer\"><ul id=\"navlist\">\n",
      "  <li id=\"navlistli2\"><a href=\"indexlp.htm\"><p align=\"center\" style=\"margin:2; padding:2;\">ÖÐ¹úÏÖ´úÊ«¸èÁ÷ÅÉ</p></a></li>\n",
      "  <li id=\"navlistli2\"><a href=\"indexls.htm\"><p align=\"center\" style=\"margin:2; padding:2;\">ÖÐ¹úÏÖ´úÊ«¸èÊ·</p></a></li>\n",
      "</ul></div>\n",
      "<br>\n",
      "<div id=\"navcontainer\"><ul id=\"navlist\">\n",
      "  <li id=\"navlistli2\"><a href=\"#gaishu\"><p align=\"center\" style=\"margin:2; padding:2;\">ÖÐ¹úÏÖ´úÊ«¸è·¢Õ¹¸ÅÊö</p></a></li>\n",
      "  <li id=\"navlist\n"
     ]
    }
   ],
   "source": [
    "\n",
    "chinaPoetryRequest = requests.get(china_poetry)\n",
    "print(chinaPoetryRequest.text[:1000])"
   ]
  },
  {
   "cell_type": "code",
   "execution_count": 7,
   "metadata": {},
   "outputs": [
    {
     "name": "stdout",
     "output_type": "stream",
     "text": [
      "\n",
      "\n",
      "\n",
      "ÖÐ»ªÊ«¿â::ÏÖ´úÊ«¿â\n",
      "\n",
      "\n",
      "\n",
      "ÖÐ»ªÊ«¿â::ÏÖ´úÊ«¿â\n",
      "¹²ÓÐ613Î»Ê«ÈË£¬8744Ê×Ê«¸è£¬1582¸öÎÄµµ\n",
      "\n",
      "×÷Æ·»ã±à\n",
      "\n",
      "ÖÐ¹úÏÖ´úÊ«¸èÁ÷ÅÉ\n",
      "ÖÐ¹úÏÖ´úÊ«¸èÊ·\n",
      "\n",
      "\n",
      "\n",
      "ÖÐ¹úÏÖ´úÊ«¸è·¢Õ¹¸ÅÊö\n",
      "ÖÐ¹úÏÖ´úÊ«ÈËÄê±í\n",
      "ÖÐ¹úÏÖ´úÊ«¸è×÷Æ·Ê«¼¯\n",
      "ÖÐ¹úÏÖ´úÊ«ÈËË÷Òý\n",
      "\n",
      "µç×ÓÊé¿â\n",
      "\n",
      "ÏÖ´úÊ«¸èµç×ÓÊé¿â\n",
      "\n",
      "\n",
      "\n",
      "\n",
      "\n",
      "\n",
      "×÷Æ·»ã±à\n",
      "\n",
      "ÖÐ¹úÏÖ´úÊ«¸è·¢Õ¹¸ÅÊö\n",
      "\n",
      "\n",
      "20ÊÀ¼Í20Äê´ú£º\n",
      "\n",
      "³¢ÊÔÅÉ\n",
      "ÎÄÑ§ÑÐ¾¿»á(ÈËÉúÅÉ)\n",
      "´´ÔìÉç(ÔçÆÚÀËÂþÖ÷Òå)\n",
      "ºþÅÏÊ«ÅÉ\n",
      "ÐÂ¸ñÂÉÊ«ÅÉ(ÐÂÔÂÅÉ)\n",
      "ÖÐ¹úÔçÆÚÏóÕ÷Ê«ÅÉ\n",
      "\n",
      "20ÊÀ¼Í30Äê´ú£º\n",
      "\n",
      "ÖÐ¹úÏÖ´úÅÉÊ«Èº\n",
      "ººÔ°ÈýÊ«ÈË\n",
      "ÆßÔÂÅÉ\n",
      "\n",
      "20ÊÀ¼Í40Äê´ú£º\n",
      "\n",
      "ÖÐ¹úÐÂÊ«Á÷ÅÉ\n",
      "¾ÅÒ¶Ê«ÅÉ(¾ÅÒ¶Ê«ÈË)\n",
      "\n",
      "20ÊÀ¼Í50Äê´ú£º\n",
      "\n",
      "ÖÐ¹úÏ\n"
     ]
    }
   ],
   "source": [
    "chinaPoetrySoup = bs4.BeautifulSoup(chinaPoetryRequest.text, 'html.parser')\n",
    "print(chinaPoetrySoup.text[:500])"
   ]
  },
  {
   "cell_type": "code",
   "execution_count": null,
   "metadata": {
    "collapsed": true
   },
   "outputs": [],
   "source": []
  }
 ],
 "metadata": {
  "kernelspec": {
   "display_name": "Python 3",
   "language": "python",
   "name": "python3"
  },
  "language_info": {
   "codemirror_mode": {
    "name": "ipython",
    "version": 3
   },
   "file_extension": ".py",
   "mimetype": "text/x-python",
   "name": "python",
   "nbconvert_exporter": "python",
   "pygments_lexer": "ipython3",
   "version": "3.6.3"
  }
 },
 "nbformat": 4,
 "nbformat_minor": 2
}
